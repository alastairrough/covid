{
 "cells": [
  {
   "cell_type": "markdown",
   "metadata": {},
   "source": [
    "# Cheerio\n",
    "\n",
    "## References\n",
    "1. https://cheerio.js.org/\n",
    "1. https://itnext.io/scraping-with-nodejs-and-cheerio-d4d34e2cf\n"
   ]
  },
  {
   "cell_type": "markdown",
   "metadata": {},
   "source": [
    "Markup example we’ll be using:\n",
    "```\n",
    "<ul id=\"fruits\">\n",
    "  <li class=\"apple\">Apple</li>\n",
    "  <li class=\"orange\">Orange</li>\n",
    "  <li class=\"pear\">Pear</li>\n",
    "</ul>\n",
    "```\n",
    "\n",
    "This is the HTML markup we will be using in all of the API examples.\n",
    "\n",
    "Loading\n",
    "First you need to load in the HTML. This step in jQuery is implicit, since jQuery operates on the one, baked-in DOM. With Cheerio, we need to pass in the HTML document.\n",
    "\n",
    "This is the preferred method:"
   ]
  },
  {
   "cell_type": "code",
   "execution_count": null,
   "metadata": {},
   "outputs": [],
   "source": [
    "// npm init\n",
    "// !npm -i cheerio"
   ]
  },
  {
   "cell_type": "code",
   "execution_count": null,
   "metadata": {},
   "outputs": [],
   "source": [
    "const cheerio = require('cheerio');\n",
    "const $ = cheerio.load('<ul id=\"fruits\"><li class=\"apple\">Apple</li><li class=\"orange\">Orange</li><li class=\"pear\">Pear</li></ul>');"
   ]
  },
  {
   "cell_type": "markdown",
   "metadata": {},
   "source": [
    "Optionally, you can also load in the HTML by passing the string as the context:"
   ]
  },
  {
   "cell_type": "code",
   "execution_count": null,
   "metadata": {},
   "outputs": [],
   "source": [
    "// const $ = require('cheerio');\n",
    "// $('ul', '<ul id=\"fruits\">...</ul>');\n",
    "$('ul', '<ul id=\"fruits\"><li class=\"apple\">Apple</li><li class=\"orange\">Orange</li><li class=\"pear\">Pear</li></ul>')"
   ]
  },
  {
   "cell_type": "markdown",
   "metadata": {},
   "source": [
    "Or as the root:"
   ]
  },
  {
   "cell_type": "code",
   "execution_count": null,
   "metadata": {},
   "outputs": [],
   "source": [
    "// const $ = require('cheerio');\n",
    "// $('li', 'ul', '<ul id=\"fruits\">...</ul>');\n",
    "$$('li', 'ul', '<ul id=\"fruits\"><li class=\"apple\">Apple</li><li class=\"orange\">Orange</li><li class=\"pear\">Pear</li></ul>');"
   ]
  },
  {
   "cell_type": "markdown",
   "metadata": {},
   "source": [
    "You can also pass an extra object to .load() if you need to modify any of the default parsing options:\n",
    "```\n",
    "const $ = cheerio.load('<ul id=\"fruits\">...</ul>', {\n",
    "    normalizeWhitespace: true,\n",
    "    xmlMode: true\n",
    "});\n",
    "```\n",
    "These parsing options are taken directly from htmlparser2, therefore any options that can be used in htmlparser2 are valid in cheerio as well. The default options are:\n",
    "```\n",
    "{\n",
    "    withDomLvl1: true,\n",
    "    normalizeWhitespace: false,\n",
    "    xmlMode: false,\n",
    "    decodeEntities: true\n",
    "}\n",
    "```\n",
    "For a full list of options and their effects, see this and htmlparser2’s options.\n",
    "\n",
    "Selectors\n",
    "Cheerio’s selector implementation is nearly identical to jQuery’s, so the API is very similar.\n",
    "\n",
    "$( selector, [context], [root] )\n",
    "selector searches within the context scope which searches within the root scope. selector and context can be a string expression, DOM Element, array of DOM elements, or cheerio object. root is typically the HTML document string.\n",
    "\n",
    "This selector method is the starting point for traversing and manipulating the document. Like jQuery, it’s the primary method for selecting elements in the document, but unlike jQuery it’s built on top of the CSSSelect library, which implements most of the Sizzle selectors."
   ]
  },
  {
   "cell_type": "code",
   "execution_count": null,
   "metadata": {},
   "outputs": [],
   "source": [
    "$('.apple', '#fruits').text()\n",
    "//=> Apple"
   ]
  },
  {
   "cell_type": "code",
   "execution_count": null,
   "metadata": {},
   "outputs": [],
   "source": [
    "$('ul .pear').attr('class')\n",
    "//=> pear"
   ]
  },
  {
   "cell_type": "code",
   "execution_count": null,
   "metadata": {},
   "outputs": [],
   "source": [
    "$('li[class=orange]').html()\n",
    "//=> Orange"
   ]
  },
  {
   "cell_type": "markdown",
   "metadata": {},
   "source": [
    "XML Namespaces\n",
    "You can select with XML Namespaces but due to the CSS specification, the colon (:) needs to be escaped for the selector to be valid."
   ]
  },
  {
   "cell_type": "markdown",
   "metadata": {},
   "source": [
    "$('[xml\\\\:id=\"main\"');"
   ]
  },
  {
   "cell_type": "markdown",
   "metadata": {},
   "source": [
    "Attributes\n",
    "Methods for getting and modifying attributes.\n",
    "\n",
    ".attr( name, value )\n",
    "Method for getting and setting attributes. Gets the attribute value for only the first element in the matched set. If you set an attribute’s value to null, you remove that attribute. You may also pass a map and function like jQuery."
   ]
  },
  {
   "cell_type": "code",
   "execution_count": null,
   "metadata": {},
   "outputs": [],
   "source": [
    "$('ul').attr('id')\n",
    "//=> fruits"
   ]
  },
  {
   "cell_type": "code",
   "execution_count": null,
   "metadata": {},
   "outputs": [],
   "source": [
    "$('.apple').attr('id', 'favorite').html()\n",
    "//=> <li class=\"apple\" id=\"favorite\">Apple</li>"
   ]
  },
  {
   "cell_type": "markdown",
   "metadata": {},
   "source": [
    "See http://api.jquery.com/attr/ for more information\n",
    "\n",
    ".prop( name, value )\n",
    "Method for getting and setting properties. Gets the property value for only the first element in the matched set."
   ]
  },
  {
   "cell_type": "code",
   "execution_count": null,
   "metadata": {},
   "outputs": [],
   "source": [
    "$('input[type=\"checkbox\"]').prop('checked')\n",
    "//=> false"
   ]
  },
  {
   "cell_type": "code",
   "execution_count": null,
   "metadata": {},
   "outputs": [],
   "source": [
    "$('input[type=\"checkbox\"]').prop('checked', true).val()\n",
    "//=> ok"
   ]
  },
  {
   "cell_type": "markdown",
   "metadata": {},
   "source": [
    "See http://api.jquery.com/prop/ for more information\n",
    "\n",
    ".data( name, value )\n",
    "Method for getting and setting data attributes. Gets or sets the data attribute value for only the first element in the matched set."
   ]
  },
  {
   "cell_type": "code",
   "execution_count": null,
   "metadata": {},
   "outputs": [],
   "source": [
    "$('<div data-apple-color=\"red\"></div>').data()\n",
    "//=> { appleColor: 'red' }"
   ]
  },
  {
   "cell_type": "code",
   "execution_count": null,
   "metadata": {},
   "outputs": [],
   "source": [
    "$('<div data-apple-color=\"red\"></div>').data('apple-color')\n",
    "//=> 'red'"
   ]
  },
  {
   "cell_type": "code",
   "execution_count": null,
   "metadata": {},
   "outputs": [],
   "source": [
    "const apple = $('.apple').data('kind', 'mac')\n",
    "apple.data('kind')\n",
    "//=> 'mac'"
   ]
  },
  {
   "cell_type": "markdown",
   "metadata": {},
   "source": [
    "See http://api.jquery.com/data/ for more information\n",
    "\n",
    ".val( [value] )\n",
    "Method for getting and setting the value of input, select, and textarea. Note: Support for map, and function has not been added yet."
   ]
  },
  {
   "cell_type": "markdown",
   "metadata": {},
   "source": [
    "$('input[type=\"text\"]').val()\n",
    "//=> input_text"
   ]
  },
  {
   "cell_type": "markdown",
   "metadata": {},
   "source": [
    "$('input[type=\"text\"]').val('test').html()\n",
    "//=> <input type=\"text\" value=\"test\"/>"
   ]
  },
  {
   "cell_type": "markdown",
   "metadata": {},
   "source": [
    ".removeAttr( name )\n",
    "Method for removing attributes by name."
   ]
  },
  {
   "cell_type": "code",
   "execution_count": null,
   "metadata": {},
   "outputs": [],
   "source": [
    "$('.pear').removeAttr('class').html()\n",
    "//=> <li>Pear</li>"
   ]
  },
  {
   "cell_type": "markdown",
   "metadata": {},
   "source": [
    ".hasClass( className )\n",
    "Check to see if any of the matched elements have the given className."
   ]
  },
  {
   "cell_type": "code",
   "execution_count": null,
   "metadata": {},
   "outputs": [],
   "source": [
    "$('.pear').hasClass('pear')\n",
    "//=> true"
   ]
  },
  {
   "cell_type": "code",
   "execution_count": null,
   "metadata": {},
   "outputs": [],
   "source": [
    "$('apple').hasClass('fruit')\n",
    "//=> false"
   ]
  },
  {
   "cell_type": "code",
   "execution_count": null,
   "metadata": {},
   "outputs": [],
   "source": [
    "$('li').hasClass('pear')\n",
    "//=> true"
   ]
  },
  {
   "cell_type": "markdown",
   "metadata": {},
   "source": [
    ".addClass( className )\n",
    "Adds class(es) to all of the matched elements. Also accepts a function like jQuery."
   ]
  },
  {
   "cell_type": "code",
   "execution_count": null,
   "metadata": {},
   "outputs": [],
   "source": [
    "$('.pear').addClass('fruit').html()\n",
    "//=> <li class=\"pear fruit\">Pear</li>"
   ]
  },
  {
   "cell_type": "code",
   "execution_count": null,
   "metadata": {},
   "outputs": [],
   "source": [
    "$('.apple').addClass('fruit red').html()\n",
    "//=> <li class=\"apple fruit red\">Apple</li>"
   ]
  },
  {
   "cell_type": "markdown",
   "metadata": {},
   "source": [
    "See http://api.jquery.com/addClass/ for more information.\n",
    "\n",
    ".removeClass( [className] )\n",
    "Removes one or more space-separated classes from the selected elements. If no className is defined, all classes will be removed. Also accepts a function like jQuery."
   ]
  },
  {
   "cell_type": "code",
   "execution_count": null,
   "metadata": {},
   "outputs": [],
   "source": [
    "$('.pear').removeClass('pear').html()\n",
    "//=> <li class=\"\">Pear</li>"
   ]
  },
  {
   "cell_type": "code",
   "execution_count": null,
   "metadata": {},
   "outputs": [],
   "source": [
    "$('.apple').addClass('red').removeClass().html()\n",
    "//=> <li class=\"\">Apple</li>"
   ]
  },
  {
   "cell_type": "markdown",
   "metadata": {},
   "source": [
    "See http://api.jquery.com/removeClass/ for more information.\n",
    "\n",
    ".toggleClass( className, [switch] )\n",
    "Add or remove class(es) from the matched elements, depending on either the class’s presence or the value of the switch argument. Also accepts a function like jQuery."
   ]
  },
  {
   "cell_type": "code",
   "execution_count": null,
   "metadata": {},
   "outputs": [],
   "source": [
    "$('.apple.green').toggleClass('fruit green red').html()\n",
    "//=> <li class=\"apple fruit red\">Apple</li>"
   ]
  },
  {
   "cell_type": "code",
   "execution_count": null,
   "metadata": {},
   "outputs": [],
   "source": [
    "$('.apple.green').toggleClass('fruit green red', true).html()\n",
    "//=> <li class=\"apple green fruit red\">Apple</li>"
   ]
  },
  {
   "cell_type": "markdown",
   "metadata": {},
   "source": [
    "See http://api.jquery.com/toggleClass/ for more information.\n",
    "\n",
    ".is( selector )\n",
    ".is( element )\n",
    ".is( selection )\n",
    ".is( function(index) )\n",
    "Checks the current list of elements and returns true if any of the elements match the selector. If using an element or Cheerio selection, returns true if any of the elements match. If using a predicate function, the function is executed in the context of the selected element, so this refers to the current element.\n",
    "\n",
    "Forms\n",
    ".serialize()\n",
    "Encodes a set of form elements as a URL query string."
   ]
  },
  {
   "cell_type": "code",
   "execution_count": null,
   "metadata": {},
   "outputs": [],
   "source": [
    "$('<form><input name=\"foo\" value=\"bar\" checked /><input name=\"foo\" value=\"qux\" checked /></form>').serialize()\n",
    "//=> foo=bar&foo=qux"
   ]
  },
  {
   "cell_type": "markdown",
   "metadata": {},
   "source": [
    ".serializeArray()\n",
    "Encode a set of form elements as an array of names and values."
   ]
  },
  {
   "cell_type": "code",
   "execution_count": null,
   "metadata": {},
   "outputs": [],
   "source": [
    "$('<form><input name=\"foo\" value=\"bar\" /></form>').serializeArray()\n",
    "//=> [ { name: 'foo', value: 'bar' } ]"
   ]
  },
  {
   "cell_type": "markdown",
   "metadata": {},
   "source": [
    "Traversing\n",
    ".find(selector)\n",
    ".find(selection)\n",
    ".find(node)\n",
    "Get the descendants of each element in the current set of matched elements, filtered by a selector, jQuery object, or element."
   ]
  },
  {
   "cell_type": "code",
   "execution_count": null,
   "metadata": {},
   "outputs": [],
   "source": [
    "$('#fruits').find('li').length\n",
    "//=> 3"
   ]
  },
  {
   "cell_type": "code",
   "execution_count": null,
   "metadata": {},
   "outputs": [],
   "source": [
    "$('#fruits').find($('.apple')).length\n",
    "//=> 1"
   ]
  },
  {
   "cell_type": "markdown",
   "metadata": {},
   "source": [
    ".parent([selector])\n",
    "Get the parent of each element in the current set of matched elements, optionally filtered by a selector."
   ]
  },
  {
   "cell_type": "code",
   "execution_count": null,
   "metadata": {},
   "outputs": [],
   "source": [
    "$('.pear').parent().attr('id')\n",
    "//=> fruits"
   ]
  },
  {
   "cell_type": "markdown",
   "metadata": {},
   "source": [
    ".parents([selector])\n",
    "Get a set of parents filtered by selector of each element in the current set of match elements."
   ]
  },
  {
   "cell_type": "code",
   "execution_count": null,
   "metadata": {},
   "outputs": [],
   "source": [
    "$('.orange').parents().length\n",
    "// => 2"
   ]
  },
  {
   "cell_type": "code",
   "execution_count": null,
   "metadata": {},
   "outputs": [],
   "source": [
    "$('.orange').parents('#fruits').length\n",
    "// => 1"
   ]
  },
  {
   "cell_type": "markdown",
   "metadata": {},
   "source": [
    ".parentsUntil([selector][,filter])\n",
    "Get the ancestors of each element in the current set of matched elements, up to but not including the element matched by the selector, DOM node, or cheerio object."
   ]
  },
  {
   "cell_type": "code",
   "execution_count": null,
   "metadata": {},
   "outputs": [],
   "source": [
    "$('.orange').parentsUntil('#food').length\n",
    "// => 1"
   ]
  },
  {
   "cell_type": "markdown",
   "metadata": {},
   "source": [
    ".closest(selector)\n",
    "For each element in the set, get the first element that matches the selector by testing the element itself and traversing up through its ancestors in the DOM tree."
   ]
  },
  {
   "cell_type": "code",
   "execution_count": null,
   "metadata": {},
   "outputs": [],
   "source": [
    "$('.orange').closest()\n",
    "// => []"
   ]
  },
  {
   "cell_type": "code",
   "execution_count": null,
   "metadata": {},
   "outputs": [],
   "source": [
    "$('.orange').closest('.apple')\n",
    "// => []"
   ]
  },
  {
   "cell_type": "code",
   "execution_count": null,
   "metadata": {},
   "outputs": [],
   "source": [
    "$('.orange').closest('li')\n",
    "// => [<li class=\"orange\">Orange</li>]"
   ]
  },
  {
   "cell_type": "code",
   "execution_count": null,
   "metadata": {},
   "outputs": [],
   "source": [
    "$('.orange').closest('#fruits')\n",
    "// => [<ul id=\"fruits\"> ... </ul>]"
   ]
  },
  {
   "cell_type": "markdown",
   "metadata": {},
   "source": [
    ".next([selector])\n",
    "Gets the next sibling of the first selected element, optionally filtered by a selector."
   ]
  },
  {
   "cell_type": "code",
   "execution_count": null,
   "metadata": {},
   "outputs": [],
   "source": [
    "$('.apple').next().hasClass('orange')\n",
    "//=> true"
   ]
  },
  {
   "cell_type": "markdown",
   "metadata": {},
   "source": [
    ".nextAll([selector])\n",
    "Gets all the following siblings of the first selected element, optionally filtered by a selector."
   ]
  },
  {
   "cell_type": "code",
   "execution_count": null,
   "metadata": {},
   "outputs": [],
   "source": [
    "$('.apple').nextAll()\n",
    "//=> [<li class=\"orange\">Orange</li>, <li class=\"pear\">Pear</li>]"
   ]
  },
  {
   "cell_type": "code",
   "execution_count": null,
   "metadata": {},
   "outputs": [],
   "source": [
    "$('.apple').nextAll('.orange')\n",
    "//=> [<li class=\"orange\">Orange</li>]"
   ]
  },
  {
   "cell_type": "markdown",
   "metadata": {},
   "source": [
    ".nextUntil([selector], [filter])\n",
    "Gets all the following siblings up to but not including the element matched by the selector, optionally filtered by another selector."
   ]
  },
  {
   "cell_type": "code",
   "execution_count": null,
   "metadata": {},
   "outputs": [],
   "source": [
    "$('.apple').nextUntil('.pear')\n",
    "//=> [<li class=\"orange\">Orange</li>]"
   ]
  },
  {
   "cell_type": "markdown",
   "metadata": {},
   "source": [
    ".prev([selector])\n",
    "Gets the previous sibling of the first selected element optionally filtered by a selector."
   ]
  },
  {
   "cell_type": "code",
   "execution_count": null,
   "metadata": {},
   "outputs": [],
   "source": [
    "$('.orange').prev().hasClass('apple')\n",
    "//=> true"
   ]
  },
  {
   "cell_type": "markdown",
   "metadata": {},
   "source": [
    ".prevAll([selector])\n",
    "Gets all the preceding siblings of the first selected element, optionally filtered by a selector."
   ]
  },
  {
   "cell_type": "code",
   "execution_count": null,
   "metadata": {},
   "outputs": [],
   "source": [
    "$('.pear').prevAll()\n",
    "//=> [<li class=\"orange\">Orange</li>, <li class=\"apple\">Apple</li>]"
   ]
  },
  {
   "cell_type": "code",
   "execution_count": null,
   "metadata": {},
   "outputs": [],
   "source": [
    "$('.pear').prevAll('.orange')\n",
    "//=> [<li class=\"orange\">Orange</li>]"
   ]
  },
  {
   "cell_type": "markdown",
   "metadata": {},
   "source": [
    ".prevUntil([selector], [filter])\n",
    "Gets all the preceding siblings up to but not including the element matched by the selector, optionally filtered by another selector."
   ]
  },
  {
   "cell_type": "code",
   "execution_count": null,
   "metadata": {},
   "outputs": [],
   "source": [
    "$('.pear').prevUntil('.apple')\n",
    "//=> [<li class=\"orange\">Orange</li>]"
   ]
  },
  {
   "cell_type": "markdown",
   "metadata": {},
   "source": [
    ".slice( start, [end] )\n",
    "Gets the elements matching the specified range"
   ]
  },
  {
   "cell_type": "code",
   "execution_count": null,
   "metadata": {},
   "outputs": [],
   "source": [
    "$('li').slice(1).eq(0).text()\n",
    "//=> 'Orange'"
   ]
  },
  {
   "cell_type": "code",
   "execution_count": null,
   "metadata": {},
   "outputs": [],
   "source": [
    "$('li').slice(1, 2).length\n",
    "//=> 1"
   ]
  },
  {
   "cell_type": "markdown",
   "metadata": {},
   "source": [
    ".siblings([selector])\n",
    "Gets the first selected element’s siblings, excluding itself."
   ]
  },
  {
   "cell_type": "code",
   "execution_count": null,
   "metadata": {},
   "outputs": [],
   "source": [
    "$('.pear').siblings().length\n",
    "//=> 2"
   ]
  },
  {
   "cell_type": "code",
   "execution_count": null,
   "metadata": {},
   "outputs": [],
   "source": [
    "$('.pear').siblings('.orange').length\n",
    "//=> 1"
   ]
  },
  {
   "cell_type": "markdown",
   "metadata": {},
   "source": [
    ".children([selector])\n",
    "Gets the children of the first selected element."
   ]
  },
  {
   "cell_type": "code",
   "execution_count": null,
   "metadata": {},
   "outputs": [],
   "source": [
    "$('#fruits').children().length\n",
    "//=> 3"
   ]
  },
  {
   "cell_type": "code",
   "execution_count": null,
   "metadata": {},
   "outputs": [],
   "source": [
    "$('#fruits').children('.pear').text()\n",
    "//=> Pear"
   ]
  },
  {
   "cell_type": "markdown",
   "metadata": {},
   "source": [
    ".contents()\n",
    "Gets the children of each element in the set of matched elements, including text and comment nodes."
   ]
  },
  {
   "cell_type": "code",
   "execution_count": null,
   "metadata": {},
   "outputs": [],
   "source": [
    "$('#fruits').contents().length\n",
    "//=> 3"
   ]
  },
  {
   "cell_type": "markdown",
   "metadata": {},
   "source": [
    ".each( function(index, element) )\n",
    "Iterates over a cheerio object, executing a function for each matched element. When the callback is fired, the function is fired in the context of the DOM element, so this refers to the current element, which is equivalent to the function parameter element. To break out of the each loop early, return with false."
   ]
  },
  {
   "cell_type": "code",
   "execution_count": null,
   "metadata": {},
   "outputs": [],
   "source": [
    "const fruits = [];\n",
    "\n",
    "$('li').each(function(i, elem) {\n",
    "  fruits[i] = $(this).text();\n",
    "});\n",
    "\n",
    "fruits.join(', ');\n",
    "//=> Apple, Orange, Pear"
   ]
  },
  {
   "cell_type": "markdown",
   "metadata": {},
   "source": [
    ".map( function(index, element) )\n",
    "Pass each element in the current matched set through a function, producing a new Cheerio object containing the return values. The function can return an individual data item or an array of data items to be inserted into the resulting set. If an array is returned, the elements inside the array are inserted into the set. If the function returns null or undefined, no element will be inserted."
   ]
  },
  {
   "cell_type": "code",
   "execution_count": null,
   "metadata": {},
   "outputs": [],
   "source": [
    "$('li').map(function(i, el) {\n",
    "  // this === el\n",
    "  return $(this).text();\n",
    "}).get().join(' ');\n",
    "//=> \"apple orange pear\""
   ]
  },
  {
   "cell_type": "markdown",
   "metadata": {},
   "source": [
    ".filter( selector )\n",
    ".filter( selection )\n",
    ".filter( element )\n",
    ".filter( function(index, element) )\n",
    "Iterates over a cheerio object, reducing the set of selector elements to those that match the selector or pass the function’s test. When a Cheerio selection is specified, return only the elements contained in that selection. When an element is specified, return only that element (if it is contained in the original selection). If using the function method, the function is executed in the context of the selected element, so this refers to the current element.\n",
    "\n",
    "Selector:"
   ]
  },
  {
   "cell_type": "code",
   "execution_count": null,
   "metadata": {},
   "outputs": [],
   "source": [
    "$('li').filter('.orange').attr('class');\n",
    "//=> orange"
   ]
  },
  {
   "cell_type": "markdown",
   "metadata": {},
   "source": [
    "Function:"
   ]
  },
  {
   "cell_type": "code",
   "execution_count": null,
   "metadata": {},
   "outputs": [],
   "source": [
    "$('li').filter(function(i, el) {\n",
    "  // this === el\n",
    "  return $(this).attr('class') === 'orange';\n",
    "}).attr('class')\n",
    "//=> orange"
   ]
  },
  {
   "cell_type": "markdown",
   "metadata": {},
   "source": [
    ".not( selector )\n",
    ".not( selection )\n",
    ".not( element )\n",
    ".not( function(index, elem) )\n",
    "Remove elements from the set of matched elements. Given a jQuery object that represents a set of DOM elements, the .not() method constructs a new jQuery object from a subset of the matching elements. The supplied selector is tested against each element; the elements that don’t match the selector will be included in the result. The .not() method can take a function as its argument in the same way that .filter() does. Elements for which the function returns true are excluded from the filtered set; all other elements are included.\n",
    "\n",
    "Selector:"
   ]
  },
  {
   "cell_type": "code",
   "execution_count": null,
   "metadata": {},
   "outputs": [],
   "source": [
    "$('li').not('.apple').length;\n",
    "//=> 2"
   ]
  },
  {
   "cell_type": "markdown",
   "metadata": {},
   "source": [
    "Function:"
   ]
  },
  {
   "cell_type": "code",
   "execution_count": null,
   "metadata": {},
   "outputs": [],
   "source": [
    "$('li').not(function(i, el) {\n",
    "  // this === el\n",
    "  return $(this).attr('class') === 'orange';\n",
    "}).length;\n",
    "//=> 2"
   ]
  },
  {
   "cell_type": "markdown",
   "metadata": {},
   "source": [
    ".has( selector )\n",
    ".has( element )\n",
    "Filters the set of matched elements to only those which have the given DOM element as a descendant or which have a descendant that matches the given selector. Equivalent to .filter(':has(selector)').\n",
    "\n",
    "Selector:"
   ]
  },
  {
   "cell_type": "code",
   "execution_count": null,
   "metadata": {},
   "outputs": [],
   "source": [
    "$('ul').has('.pear').attr('id');\n",
    "//=> fruits"
   ]
  },
  {
   "cell_type": "markdown",
   "metadata": {},
   "source": [
    "Element:"
   ]
  },
  {
   "cell_type": "code",
   "execution_count": null,
   "metadata": {},
   "outputs": [],
   "source": [
    "$('ul').has($('.pear')[0]).attr('id');\n",
    "//=> fruits"
   ]
  },
  {
   "cell_type": "markdown",
   "metadata": {},
   "source": [
    ".first()\n",
    "Will select the first element of a cheerio object"
   ]
  },
  {
   "cell_type": "code",
   "execution_count": null,
   "metadata": {},
   "outputs": [],
   "source": [
    "$('#fruits').children().first().text()\n",
    "//=> Apple"
   ]
  },
  {
   "cell_type": "markdown",
   "metadata": {},
   "source": [
    ".last()\n",
    "Will select the last element of a cheerio object"
   ]
  },
  {
   "cell_type": "code",
   "execution_count": null,
   "metadata": {},
   "outputs": [],
   "source": [
    "$('#fruits').children().last().text()\n",
    "//=> Pear"
   ]
  },
  {
   "cell_type": "markdown",
   "metadata": {},
   "source": [
    ".eq( i )\n",
    "Reduce the set of matched elements to the one at the specified index. Use .eq(-i) to count backwards from the last selected element."
   ]
  },
  {
   "cell_type": "code",
   "execution_count": null,
   "metadata": {},
   "outputs": [],
   "source": [
    "$('li').eq(0).text()\n",
    "//=> Apple"
   ]
  },
  {
   "cell_type": "code",
   "execution_count": null,
   "metadata": {},
   "outputs": [],
   "source": [
    "$('li').eq(-1).text()\n",
    "//=> Pear"
   ]
  },
  {
   "cell_type": "markdown",
   "metadata": {},
   "source": [
    ".get( [i] )\n",
    "Retrieve the DOM elements matched by the Cheerio object. If an index is specified, retrieve one of the elements matched by the Cheerio object:"
   ]
  },
  {
   "cell_type": "code",
   "execution_count": null,
   "metadata": {},
   "outputs": [],
   "source": [
    "$('li').get(0).tagName\n",
    "//=> li"
   ]
  },
  {
   "cell_type": "markdown",
   "metadata": {},
   "source": [
    "If no index is specified, retrieve all elements matched by the Cheerio object:"
   ]
  },
  {
   "cell_type": "code",
   "execution_count": null,
   "metadata": {},
   "outputs": [],
   "source": [
    "$('li').get().length\n",
    "//=> 3"
   ]
  },
  {
   "cell_type": "markdown",
   "metadata": {},
   "source": [
    ".index()\n",
    ".index( selector )\n",
    ".index( nodeOrSelection )\n",
    "Search for a given element from among the matched elements."
   ]
  },
  {
   "cell_type": "code",
   "execution_count": null,
   "metadata": {},
   "outputs": [],
   "source": [
    "$('.pear').index()\n",
    "//=> 2"
   ]
  },
  {
   "cell_type": "code",
   "execution_count": null,
   "metadata": {},
   "outputs": [],
   "source": [
    "$('.orange').index('li')\n",
    "//=> 1"
   ]
  },
  {
   "cell_type": "code",
   "execution_count": null,
   "metadata": {},
   "outputs": [],
   "source": [
    "$('.apple').index($('#fruit, li'))\n",
    "//=> 1"
   ]
  },
  {
   "cell_type": "markdown",
   "metadata": {},
   "source": [
    ".end()\n",
    "End the most recent filtering operation in the current chain and return the set of matched elements to its previous state."
   ]
  },
  {
   "cell_type": "code",
   "execution_count": null,
   "metadata": {},
   "outputs": [],
   "source": [
    "$('li').eq(0).end().length\n",
    "//=> 3"
   ]
  },
  {
   "cell_type": "markdown",
   "metadata": {},
   "source": [
    ".add( selector [, context] )\n",
    ".add( element )\n",
    ".add( elements )\n",
    ".add( html )\n",
    ".add( selection )\n",
    "Add elements to the set of matched elements."
   ]
  },
  {
   "cell_type": "code",
   "execution_count": null,
   "metadata": {},
   "outputs": [],
   "source": [
    "$('.apple').add('.orange').length\n",
    "//=> 2"
   ]
  },
  {
   "cell_type": "markdown",
   "metadata": {},
   "source": [
    ".addBack( [filter] )\n",
    "Add the previous set of elements on the stack to the current set, optionally filtered by a selector."
   ]
  },
  {
   "cell_type": "code",
   "execution_count": null,
   "metadata": {},
   "outputs": [],
   "source": [
    "$('li').eq(0).addBack('.orange').length\n",
    "//=> 2"
   ]
  },
  {
   "cell_type": "markdown",
   "metadata": {},
   "source": [
    "Manipulation\n",
    "Methods for modifying the DOM structure.\n",
    "\n",
    ".append( content, [content, …] )\n",
    "Inserts content as the last child of each of the selected elements."
   ]
  },
  {
   "cell_type": "code",
   "execution_count": null,
   "metadata": {},
   "outputs": [],
   "source": [
    "$('ul').append('<li class=\"plum\">Plum</li>')\n",
    "$.html()\n",
    "//=>  <ul id=\"fruits\">\n",
    "//      <li class=\"apple\">Apple</li>\n",
    "//      <li class=\"orange\">Orange</li>\n",
    "//      <li class=\"pear\">Pear</li>\n",
    "//      <li class=\"plum\">Plum</li>\n",
    "//    </ul>"
   ]
  },
  {
   "cell_type": "markdown",
   "metadata": {},
   "source": [
    ".appendTo( target )\n",
    "Insert every element in the set of matched elements to the end of the target."
   ]
  },
  {
   "cell_type": "code",
   "execution_count": null,
   "metadata": {},
   "outputs": [],
   "source": [
    "$('<li class=\"plum\">Plum</li>').appendTo('#fruits')\n",
    "$.html()\n",
    "//=>  <ul id=\"fruits\">\n",
    "//      <li class=\"apple\">Apple</li>\n",
    "//      <li class=\"orange\">Orange</li>\n",
    "//      <li class=\"pear\">Pear</li>\n",
    "//      <li class=\"plum\">Plum</li>\n",
    "//    </ul>"
   ]
  },
  {
   "cell_type": "markdown",
   "metadata": {},
   "source": [
    ".prepend( content, [content, …] )\n",
    "Inserts content as the first child of each of the selected elements."
   ]
  },
  {
   "cell_type": "code",
   "execution_count": null,
   "metadata": {},
   "outputs": [],
   "source": [
    "$('ul').prepend('<li class=\"plum\">Plum</li>')\n",
    "$.html()\n",
    "//=>  <ul id=\"fruits\">\n",
    "//      <li class=\"plum\">Plum</li>\n",
    "//      <li class=\"apple\">Apple</li>\n",
    "//      <li class=\"orange\">Orange</li>\n",
    "//      <li class=\"pear\">Pear</li>\n",
    "//    </ul>"
   ]
  },
  {
   "cell_type": "markdown",
   "metadata": {},
   "source": [
    ".prependTo( target )\n",
    "Insert every element in the set of matched elements to the beginning of the target."
   ]
  },
  {
   "cell_type": "code",
   "execution_count": null,
   "metadata": {},
   "outputs": [],
   "source": [
    "$('<li class=\"plum\">Plum</li>').prependTo('#fruits')\n",
    "$.html()\n",
    "//=>  <ul id=\"fruits\">\n",
    "//      <li class=\"plum\">Plum</li>\n",
    "//      <li class=\"apple\">Apple</li>\n",
    "//      <li class=\"orange\">Orange</li>\n",
    "//      <li class=\"pear\">Pear</li>\n",
    "//    </ul>"
   ]
  },
  {
   "cell_type": "markdown",
   "metadata": {},
   "source": [
    ".after( content, [content, …] )\n",
    "Insert content next to each element in the set of matched elements."
   ]
  },
  {
   "cell_type": "code",
   "execution_count": null,
   "metadata": {},
   "outputs": [],
   "source": [
    "$('.apple').after('<li class=\"plum\">Plum</li>')\n",
    "$.html()\n",
    "//=>  <ul id=\"fruits\">\n",
    "//      <li class=\"apple\">Apple</li>\n",
    "//      <li class=\"plum\">Plum</li>\n",
    "//      <li class=\"orange\">Orange</li>\n",
    "//      <li class=\"pear\">Pear</li>\n",
    "//    </ul>"
   ]
  },
  {
   "cell_type": "markdown",
   "metadata": {},
   "source": [
    ".insertAfter( target )\n",
    "mInsert every element in the set of matched elements after the target."
   ]
  },
  {
   "cell_type": "code",
   "execution_count": null,
   "metadata": {},
   "outputs": [],
   "source": [
    "$('<li class=\"plum\">Plum</li>').insertAfter('.apple')\n",
    "$.html()\n",
    "//=>  <ul id=\"fruits\">\n",
    "//      <li class=\"apple\">Apple</li>\n",
    "//      <li class=\"plum\">Plum</li>\n",
    "//      <li class=\"orange\">Orange</li>\n",
    "//      <li class=\"pear\">Pear</li>\n",
    "//    </ul>"
   ]
  },
  {
   "cell_type": "markdown",
   "metadata": {},
   "source": [
    ".before( content, [content, …] )\n",
    "Insert content previous to each element in the set of matched elements."
   ]
  },
  {
   "cell_type": "code",
   "execution_count": null,
   "metadata": {},
   "outputs": [],
   "source": [
    "$('.apple').before('<li class=\"plum\">Plum</li>')\n",
    "$.html()\n",
    "//=>  <ul id=\"fruits\">\n",
    "//      <li class=\"plum\">Plum</li>\n",
    "//      <li class=\"apple\">Apple</li>\n",
    "//      <li class=\"orange\">Orange</li>\n",
    "//      <li class=\"pear\">Pear</li>\n",
    "//    </ul>"
   ]
  },
  {
   "cell_type": "markdown",
   "metadata": {},
   "source": [
    ".insertBefore( target )\n",
    "Insert every element in the set of matched elements before the target."
   ]
  },
  {
   "cell_type": "code",
   "execution_count": null,
   "metadata": {},
   "outputs": [],
   "source": [
    "$('<li class=\"plum\">Plum</li>').insertBefore('.apple')\n",
    "$.html()\n",
    "//=>  <ul id=\"fruits\">\n",
    "//      <li class=\"plum\">Plum</li>\n",
    "//      <li class=\"apple\">Apple</li>\n",
    "//      <li class=\"orange\">Orange</li>\n",
    "//      <li class=\"pear\">Pear</li>\n",
    "//    </ul>"
   ]
  },
  {
   "cell_type": "markdown",
   "metadata": {},
   "source": [
    ".remove( [selector] )\n",
    "Removes the set of matched elements from the DOM and all their children. selector filters the set of matched elements to be removed."
   ]
  },
  {
   "cell_type": "code",
   "execution_count": null,
   "metadata": {},
   "outputs": [],
   "source": [
    "$('.pear').remove()\n",
    "$.html()\n",
    "//=>  <ul id=\"fruits\">\n",
    "//      <li class=\"apple\">Apple</li>\n",
    "//      <li class=\"orange\">Orange</li>\n",
    "//    </ul>"
   ]
  },
  {
   "cell_type": "markdown",
   "metadata": {},
   "source": [
    ".replaceWith( content )\n",
    "Replaces matched elements with content."
   ]
  },
  {
   "cell_type": "code",
   "execution_count": null,
   "metadata": {},
   "outputs": [],
   "source": [
    "const plum = $('<li class=\"plum\">Plum</li>')\n",
    "$('.pear').replaceWith(plum)\n",
    "$.html()\n",
    "//=> <ul id=\"fruits\">\n",
    "//     <li class=\"apple\">Apple</li>\n",
    "//     <li class=\"orange\">Orange</li>\n",
    "//     <li class=\"plum\">Plum</li>\n",
    "//   </ul>"
   ]
  },
  {
   "cell_type": "markdown",
   "metadata": {},
   "source": [
    ".empty()\n",
    "Empties an element, removing all its children."
   ]
  },
  {
   "cell_type": "code",
   "execution_count": null,
   "metadata": {},
   "outputs": [],
   "source": [
    "$('ul').empty()\n",
    "$.html()\n",
    "//=>  <ul id=\"fruits\"></ul>"
   ]
  },
  {
   "cell_type": "markdown",
   "metadata": {},
   "source": [
    ".html( [htmlString] )\n",
    "Gets an html content string from the first selected element. If htmlString is specified, each selected element’s content is replaced by the new content."
   ]
  },
  {
   "cell_type": "code",
   "execution_count": null,
   "metadata": {},
   "outputs": [],
   "source": [
    "$('.orange').html()\n",
    "//=> Orange"
   ]
  },
  {
   "cell_type": "code",
   "execution_count": null,
   "metadata": {},
   "outputs": [],
   "source": [
    "$('#fruits').html('<li class=\"mango\">Mango</li>').html()\n",
    "//=> <li class=\"mango\">Mango</li>"
   ]
  },
  {
   "cell_type": "markdown",
   "metadata": {},
   "source": [
    ".text( [textString] )\n",
    "Get the combined text contents of each element in the set of matched elements, including their descendants. If textString is specified, each selected element’s content is replaced by the new text content."
   ]
  },
  {
   "cell_type": "code",
   "execution_count": null,
   "metadata": {},
   "outputs": [],
   "source": [
    "$('.orange').text()\n",
    "//=> Orange"
   ]
  },
  {
   "cell_type": "code",
   "execution_count": null,
   "metadata": {},
   "outputs": [],
   "source": [
    "$('ul').text()\n",
    "//=>  Apple\n",
    "//    Orange\n",
    "//    Pear"
   ]
  },
  {
   "cell_type": "markdown",
   "metadata": {},
   "source": [
    ".wrap( content )\n",
    "The .wrap() function can take any string or object that could be passed to the $() factory function to specify a DOM structure. This structure may be nested several levels deep, but should contain only one inmost element. A copy of this structure will be wrapped around each of the elements in the set of matched elements. This method returns the original set of elements for chaining purposes."
   ]
  },
  {
   "cell_type": "code",
   "execution_count": null,
   "metadata": {},
   "outputs": [],
   "source": [
    "const redFruit = $('<div class=\"red-fruit\"></div>')"
   ]
  },
  {
   "cell_type": "code",
   "execution_count": null,
   "metadata": {},
   "outputs": [],
   "source": [
    "console.log(redFruit)"
   ]
  },
  {
   "cell_type": "code",
   "execution_count": null,
   "metadata": {},
   "outputs": [],
   "source": [
    "$('.apple').wrap(redFruit)\n",
    "\n",
    "//=> <ul id=\"fruits\">\n",
    "//     <div class=\"red-fruit\">\n",
    "//      <li class=\"apple\">Apple</li>\n",
    "//     </div>\n",
    "//     <li class=\"orange\">Orange</li>\n",
    "//     <li class=\"plum\">Plum</li>\n",
    "//   </ul>"
   ]
  },
  {
   "cell_type": "code",
   "execution_count": null,
   "metadata": {},
   "outputs": [],
   "source": [
    "const healthy = $('<div class=\"healthy\"></div>')\n",
    "$('li').wrap(healthy)\n",
    "\n",
    "//=> <ul id=\"fruits\">\n",
    "//     <div class=\"healthy\">\n",
    "//       <li class=\"apple\">Apple</li>\n",
    "//     </div>\n",
    "//     <div class=\"healthy\">\n",
    "//       <li class=\"orange\">Orange</li>\n",
    "//     </div>\n",
    "//     <div class=\"healthy\">\n",
    "//        <li class=\"plum\">Plum</li>\n",
    "//     </div>\n",
    "//   </ul>"
   ]
  },
  {
   "cell_type": "markdown",
   "metadata": {},
   "source": [
    ".css( [propertyName] )\n",
    ".css( [ propertyNames] )\n",
    ".css( [propertyName], [value] )\n",
    ".css( [propertyName], [function] )\n",
    ".css( [properties] )\n",
    "Get the value of a style property for the first element in the set of matched elements or set one or more CSS properties for every matched element.\n",
    "\n",
    "Rendering\n",
    "When you’re ready to render the document, you can use the html utility function:"
   ]
  },
  {
   "cell_type": "code",
   "execution_count": null,
   "metadata": {},
   "outputs": [],
   "source": [
    "$.html()\n",
    "//=>  <ul id=\"fruits\">\n",
    "//      <li class=\"apple\">Apple</li>\n",
    "//      <li class=\"orange\">Orange</li>\n",
    "//      <li class=\"pear\">Pear</li>\n",
    "//    </ul>"
   ]
  },
  {
   "cell_type": "markdown",
   "metadata": {},
   "source": [
    "If you want to return the outerHTML you can use $.html(selector):"
   ]
  },
  {
   "cell_type": "code",
   "execution_count": null,
   "metadata": {},
   "outputs": [],
   "source": [
    "$.html('.pear')\n",
    "//=> <li class=\"pear\">Pear</li>"
   ]
  },
  {
   "cell_type": "markdown",
   "metadata": {},
   "source": [
    "By default, html will leave some tags open. Sometimes you may instead want to render a valid XML document. For example, you might parse the following XML snippet:"
   ]
  },
  {
   "cell_type": "code",
   "execution_count": null,
   "metadata": {},
   "outputs": [],
   "source": [
    "const $ = cheerio.load('<media:thumbnail url=\"http://www.foo.com/keyframe.jpg\" width=\"75\" height=\"50\" time=\"12:05:01.123\"/>');"
   ]
  },
  {
   "cell_type": "markdown",
   "metadata": {},
   "source": [
    "… and later want to render to XML. To do this, you can use the ‘xml’ utility function:"
   ]
  },
  {
   "cell_type": "code",
   "execution_count": null,
   "metadata": {},
   "outputs": [],
   "source": [
    "$.xml()\n",
    "//=>  <media:thumbnail url=\"http://www.foo.com/keyframe.jpg\" width=\"75\" height=\"50\" time=\"12:05:01.123\"/>"
   ]
  },
  {
   "cell_type": "markdown",
   "metadata": {},
   "source": [
    "You may also render the text content of a Cheerio object using the text static method:"
   ]
  },
  {
   "cell_type": "code",
   "execution_count": null,
   "metadata": {},
   "outputs": [],
   "source": [
    "const $ = cheerio.load('This is <em>content</em>.')\n",
    "$.text()\n",
    "//=> This is content."
   ]
  },
  {
   "cell_type": "code",
   "execution_count": null,
   "metadata": {},
   "outputs": [],
   "source": [
    "The method may be called on the Cheerio module itself–be sure to pass a collection of nodes!"
   ]
  },
  {
   "cell_type": "code",
   "execution_count": null,
   "metadata": {},
   "outputs": [],
   "source": [
    "const $ = cheerio.load('<div>This is <em>content</em>.</div>')\n",
    "cheerio.text($('div'))\n",
    "//=> This is content."
   ]
  },
  {
   "cell_type": "markdown",
   "metadata": {},
   "source": [
    "Miscellaneous\n",
    "DOM element methods that don’t fit anywhere else\n",
    "\n",
    ".toArray()\n",
    "Retrieve all the DOM elements contained in the jQuery set as an array."
   ]
  },
  {
   "cell_type": "code",
   "execution_count": null,
   "metadata": {},
   "outputs": [],
   "source": [
    "$('li').toArray()\n",
    "//=> [ {...}, {...}, {...} ]"
   ]
  },
  {
   "cell_type": "markdown",
   "metadata": {},
   "source": [
    ".clone()\n",
    "Clone the cheerio object.\n",
    "\n",
    "const moreFruit = $('#fruits').clone()\n",
    "Utilities\n",
    "$.root\n",
    "Sometimes you need to work with the top-level root element. To query it, you can use $.root()."
   ]
  },
  {
   "cell_type": "code",
   "execution_count": null,
   "metadata": {},
   "outputs": [],
   "source": [
    "$.root().append('<ul id=\"vegetables\"></ul>').html();\n",
    "//=> <ul id=\"fruits\">...</ul><ul id=\"vegetables\"></ul>"
   ]
  },
  {
   "cell_type": "markdown",
   "metadata": {},
   "source": [
    "$.contains( container, contained )\n",
    "Checks to see if the contained DOM element is a descendant of the container DOM element.\n",
    "\n",
    "$.parseHTML( data [, context ] [, keepScripts ] )\n",
    "Parses a string into an array of DOM nodes. The context argument has no meaning for Cheerio, but it is maintained for API compatibility.\n",
    "\n",
    "$.load( html[, options ] )\n",
    "Load in the HTML. (See the previous section titled “Loading” for more information.)\n",
    "\n",
    "Plugins\n",
    "Once you have loaded a document, you may extend the prototype or the equivalent fn property with custom plugin methods:"
   ]
  },
  {
   "cell_type": "code",
   "execution_count": null,
   "metadata": {},
   "outputs": [],
   "source": [
    "const $ = cheerio.load('<html><body>Hello, <b>world</b>!</body></html>');\n",
    "$.prototype.logHtml = function() {\n",
    "  console.log(this.html());\n",
    "};"
   ]
  },
  {
   "cell_type": "code",
   "execution_count": null,
   "metadata": {},
   "outputs": [],
   "source": [
    "$('body').logHtml(); // logs \"Hello, <b>world</b>!\" to the console"
   ]
  },
  {
   "cell_type": "markdown",
   "metadata": {},
   "source": [
    "The “DOM Node” object\n",
    "Cheerio collections are made up of objects that bear some resemblance to browser-based DOM nodes. You can expect them to define the following properties:\n",
    "\n",
    "tagName\n",
    "parentNode\n",
    "previousSibling\n",
    "nextSibling\n",
    "nodeValue\n",
    "firstChild\n",
    "childNodes\n",
    "lastChild"
   ]
  },
  {
   "cell_type": "markdown",
   "metadata": {},
   "source": [
    "## School Exposures\n",
    "\n",
    "Prototype ..."
   ]
  },
  {
   "cell_type": "code",
   "execution_count": null,
   "metadata": {},
   "outputs": [],
   "source": [
    "var cheerio = require('cheerio');\n",
    "\n",
    "const $ = cheerio.load('<h2 class=\"title\">Hello world</h2>')\n",
    "$('h2.title').text('Hello there!')\n",
    "$('h2').addClass('welcome')\n",
    "test = $.html();\n",
    "// console.log(test);"
   ]
  },
  {
   "cell_type": "code",
   "execution_count": null,
   "metadata": {},
   "outputs": [],
   "source": [
    "const cheerio=require('cheerio')\n",
    "const htmlString='<html><body><p class=\"blessMe\">HI</p></body></html>'\n",
    "const $=cheerio.load(htmlString)\n",
    "// we can use $('css selector')\n",
    "const pText=$('.blessMe').text()\n",
    "//=> HI\n",
    "console.log(pText)"
   ]
  },
  {
   "cell_type": "code",
   "execution_count": null,
   "metadata": {},
   "outputs": [],
   "source": [
    "const request = require(\"request\");\n",
    "const cheerio = require(\"cheerio\");\n",
    "function getFull(id, callback) {\n",
    "  request.get(`https://www.imdb.com/title/${id}/?ref_=fn_al_tt_1`, function(\n",
    "    error,\n",
    "    response,\n",
    "    data\n",
    "  ) {\n",
    "    const $ = cheerio.load(data);\n",
    "    callback(error, {\n",
    "      story: $(\"div.inline:nth-child(3) > p:nth-child(1) > span:nth-child(1)\")\n",
    "        .text()\n",
    "        .trim()\n",
    "    });\n",
    "  });\n",
    "}"
   ]
  },
  {
   "cell_type": "code",
   "execution_count": null,
   "metadata": {},
   "outputs": [],
   "source": [
    "// scrapes VCH \n",
    "var cheerio = require('cheerio');\n",
    "{/* \n",
    "<ul id=\"fruits\">\n",
    "  <li class=\"apple\">Apple</li>\n",
    "  <li class=\"orange\">Orange</li>\n",
    "  <li class=\"pear\">Pear</li>\n",
    "</ul> \n",
    "*/}\n",
    "\n",
    "var cheerio = require('cheerio');\n",
    "\n",
    "const $ = cheerio.load('<ul id=\"fruits\"><li class=\"apple\">Apple</li><li class=\"orange\">Orange</li><li class=\"pear\">Pear</li></ul>')\n",
    "\n",
    "test = $('.apple', '#fruits').text()\n",
    "//=> Apple\n",
    "console.log(test);\n",
    "\n",
    "test = $('ul .pear').attr('class')\n",
    "//=> pear\n",
    "console.log(test);\n",
    "\n",
    "test = $('li[class=orange]').html()\n",
    "//=> Orange\n",
    "console.log(test);\n"
   ]
  },
  {
   "cell_type": "code",
   "execution_count": 2,
   "metadata": {},
   "outputs": [
    {
     "data": {
      "text/plain": [
       "Request {\n",
       "  _events: [Object: null prototype] {\n",
       "    error: [Function: bound ],\n",
       "    complete: [Function: bound ],\n",
       "    pipe: [Function]\n",
       "  },\n",
       "  _eventsCount: 3,\n",
       "  _maxListeners: undefined,\n",
       "  uri: Url {\n",
       "    protocol: 'http:',\n",
       "    slashes: true,\n",
       "    auth: null,\n",
       "    host: 'localhost',\n",
       "    port: 80,\n",
       "    hostname: 'localhost',\n",
       "    hash: null,\n",
       "    search: null,\n",
       "    query: null,\n",
       "    pathname: '/schools_exposures.html',\n",
       "    path: '/schools_exposures.html',\n",
       "    href: 'http://localhost/schools_exposures.html'\n",
       "  },\n",
       "  callback: [Function],\n",
       "  readable: true,\n",
       "  writable: true,\n",
       "  _qs: Querystring {\n",
       "    request: [Circular],\n",
       "    lib: { formats: [Object], parse: [Function], stringify: [Function] },\n",
       "    useQuerystring: undefined,\n",
       "    parseOptions: {},\n",
       "    stringifyOptions: {}\n",
       "  },\n",
       "  _auth: Auth {\n",
       "    request: [Circular],\n",
       "    hasAuth: false,\n",
       "    sentAuth: false,\n",
       "    bearerToken: null,\n",
       "    user: null,\n",
       "    pass: null\n",
       "  },\n",
       "  _oauth: OAuth { request: [Circular], params: null },\n",
       "  _multipart: Multipart {\n",
       "    request: [Circular],\n",
       "    boundary: 'bc382aaa-7f57-44a6-9865-c215582933b2',\n",
       "    chunked: false,\n",
       "    body: null\n",
       "  },\n",
       "  _redirect: Redirect {\n",
       "    request: [Circular],\n",
       "    followRedirect: true,\n",
       "    followRedirects: true,\n",
       "    followAllRedirects: false,\n",
       "    followOriginalHttpMethod: false,\n",
       "    allowRedirect: [Function],\n",
       "    maxRedirects: 10,\n",
       "    redirects: [],\n",
       "    redirectsFollowed: 0,\n",
       "    removeRefererHeader: false\n",
       "  },\n",
       "  _tunnel: Tunnel {\n",
       "    request: [Circular],\n",
       "    proxyHeaderWhiteList: [\n",
       "      'accept',           'accept-charset',\n",
       "      'accept-encoding',  'accept-language',\n",
       "      'accept-ranges',    'cache-control',\n",
       "      'content-encoding', 'content-language',\n",
       "      'content-location', 'content-md5',\n",
       "      'content-range',    'content-type',\n",
       "      'connection',       'date',\n",
       "      'expect',           'max-forwards',\n",
       "      'pragma',           'referer',\n",
       "      'te',               'user-agent',\n",
       "      'via'\n",
       "    ],\n",
       "    proxyHeaderExclusiveList: []\n",
       "  },\n",
       "  headers: { host: 'localhost' },\n",
       "  setHeader: [Function],\n",
       "  hasHeader: [Function],\n",
       "  getHeader: [Function],\n",
       "  removeHeader: [Function],\n",
       "  method: 'GET',\n",
       "  localAddress: undefined,\n",
       "  pool: {},\n",
       "  dests: [],\n",
       "  __isRequestRequest: true,\n",
       "  _callback: [Function],\n",
       "  proxy: null,\n",
       "  tunnel: false,\n",
       "  setHost: true,\n",
       "  originalCookieHeader: undefined,\n",
       "  _disableCookies: true,\n",
       "  _jar: undefined,\n",
       "  port: 80,\n",
       "  host: 'localhost',\n",
       "  path: '/schools_exposures.html',\n",
       "  httpModule: {\n",
       "    _connectionListener: [Function: connectionListener],\n",
       "    METHODS: [\n",
       "      'ACL',        'BIND',        'CHECKOUT',\n",
       "      'CONNECT',    'COPY',        'DELETE',\n",
       "      'GET',        'HEAD',        'LINK',\n",
       "      'LOCK',       'M-SEARCH',    'MERGE',\n",
       "      'MKACTIVITY', 'MKCALENDAR',  'MKCOL',\n",
       "      'MOVE',       'NOTIFY',      'OPTIONS',\n",
       "      'PATCH',      'POST',        'PRI',\n",
       "      'PROPFIND',   'PROPPATCH',   'PURGE',\n",
       "      'PUT',        'REBIND',      'REPORT',\n",
       "      'SEARCH',     'SOURCE',      'SUBSCRIBE',\n",
       "      'TRACE',      'UNBIND',      'UNLINK',\n",
       "      'UNLOCK',     'UNSUBSCRIBE'\n",
       "    ],\n",
       "    STATUS_CODES: {\n",
       "      '100': 'Continue',\n",
       "      '101': 'Switching Protocols',\n",
       "      '102': 'Processing',\n",
       "      '103': 'Early Hints',\n",
       "      '200': 'OK',\n",
       "      '201': 'Created',\n",
       "      '202': 'Accepted',\n",
       "      '203': 'Non-Authoritative Information',\n",
       "      '204': 'No Content',\n",
       "      '205': 'Reset Content',\n",
       "      '206': 'Partial Content',\n",
       "      '207': 'Multi-Status',\n",
       "      '208': 'Already Reported',\n",
       "      '226': 'IM Used',\n",
       "      '300': 'Multiple Choices',\n",
       "      '301': 'Moved Permanently',\n",
       "      '302': 'Found',\n",
       "      '303': 'See Other',\n",
       "      '304': 'Not Modified',\n",
       "      '305': 'Use Proxy',\n",
       "      '307': 'Temporary Redirect',\n",
       "      '308': 'Permanent Redirect',\n",
       "      '400': 'Bad Request',\n",
       "      '401': 'Unauthorized',\n",
       "      '402': 'Payment Required',\n",
       "      '403': 'Forbidden',\n",
       "      '404': 'Not Found',\n",
       "      '405': 'Method Not Allowed',\n",
       "      '406': 'Not Acceptable',\n",
       "      '407': 'Proxy Authentication Required',\n",
       "      '408': 'Request Timeout',\n",
       "      '409': 'Conflict',\n",
       "      '410': 'Gone',\n",
       "      '411': 'Length Required',\n",
       "      '412': 'Precondition Failed',\n",
       "      '413': 'Payload Too Large',\n",
       "      '414': 'URI Too Long',\n",
       "      '415': 'Unsupported Media Type',\n",
       "      '416': 'Range Not Satisfiable',\n",
       "      '417': 'Expectation Failed',\n",
       "      '418': \"I'm a Teapot\",\n",
       "      '421': 'Misdirected Request',\n",
       "      '422': 'Unprocessable Entity',\n",
       "      '423': 'Locked',\n",
       "      '424': 'Failed Dependency',\n",
       "      '425': 'Unordered Collection',\n",
       "      '426': 'Upgrade Required',\n",
       "      '428': 'Precondition Required',\n",
       "      '429': 'Too Many Requests',\n",
       "      '431': 'Request Header Fields Too Large',\n",
       "      '451': 'Unavailable For Legal Reasons',\n",
       "      '500': 'Internal Server Error',\n",
       "      '501': 'Not Implemented',\n",
       "      '502': 'Bad Gateway',\n",
       "      '503': 'Service Unavailable',\n",
       "      '504': 'Gateway Timeout',\n",
       "      '505': 'HTTP Version Not Supported',\n",
       "      '506': 'Variant Also Negotiates',\n",
       "      '507': 'Insufficient Storage',\n",
       "      '508': 'Loop Detected',\n",
       "      '509': 'Bandwidth Limit Exceeded',\n",
       "      '510': 'Not Extended',\n",
       "      '511': 'Network Authentication Required'\n",
       "    },\n",
       "    Agent: [Function: Agent] { defaultMaxSockets: Infinity },\n",
       "    ClientRequest: [Function: ClientRequest],\n",
       "    IncomingMessage: [Function: IncomingMessage],\n",
       "    OutgoingMessage: [Function: OutgoingMessage],\n",
       "    Server: [Function: Server],\n",
       "    ServerResponse: [Function: ServerResponse],\n",
       "    createServer: [Function: createServer],\n",
       "    get: [Function: get],\n",
       "    request: [Function: request],\n",
       "    maxHeaderSize: [Getter],\n",
       "    globalAgent: [Getter/Setter]\n",
       "  },\n",
       "  agentClass: [Function: Agent] { defaultMaxSockets: Infinity },\n",
       "  agent: Agent {\n",
       "    _events: [Object: null prototype] {\n",
       "      free: [Function],\n",
       "      newListener: [Function: maybeEnableKeylog]\n",
       "    },\n",
       "    _eventsCount: 2,\n",
       "    _maxListeners: undefined,\n",
       "    defaultPort: 80,\n",
       "    protocol: 'http:',\n",
       "    options: { path: null },\n",
       "    requests: {},\n",
       "    sockets: {},\n",
       "    freeSockets: {},\n",
       "    keepAliveMsecs: 1000,\n",
       "    keepAlive: false,\n",
       "    maxSockets: Infinity,\n",
       "    maxFreeSockets: 256,\n",
       "    [Symbol(kCapture)]: false\n",
       "  },\n",
       "  [Symbol(kCapture)]: false\n",
       "}"
      ]
     },
     "execution_count": 2,
     "metadata": {},
     "output_type": "execute_result"
    },
    {
     "name": "stdout",
     "output_type": "stream",
     "text": [
      "<div style=\"font-size:16px;\"><div style=\"font-size:16px;\"><div style=\"font-size:16px;\"><div style=\"font-size:16px;\"><div style=\"font-size:16px;\"><div style=\"font-size:16px;\"><span style=\"font-size:14px;\"><span style=\"color:#843275;font-size:16px;\">Cedar Walk Program, Vancouver School District</span></span></div><div style=\"font-size:16px;\"><span style=\"font-size:14px;\">Address:&#xA0;1043 Kingsway, Vancouver, BC</span><br><span style=\"font-size:14px;\">Potential exposure date(s):&#xA0;</span><span aria-hidden=\"true\" style=\"font-size:14px;\"></span><span style=\"font-size:14px;\"><span aria-hidden=\"true\"></span>September 14, 15, 17 and 21</span></div><span style=\"font-size:14px;\"><span style=\"color:#843275;font-size:16px;\"><br></span></span></div><div style=\"font-size:16px;\"><span style=\"font-size:14px;\"><span style=\"color:#843275;font-size:16px;\">Rockridge Secondary, West Vancouver School District</span></span></div><div style=\"font-size:16px;\"><span style=\"font-size:14px;\">Address:&#xA0;5350 Headland Drive, West Vancouver, BC</span><br><span style=\"font-size:14px;\">Potential exposure date(s):&#xA0;</span><span aria-hidden=\"true\" style=\"font-size:14px;\"></span><span style=\"font-size:14px;\"><span aria-hidden=\"true\"></span>September 23 to 24</span></div><span style=\"font-size:14px;\"><span style=\"color:#843275;font-size:16px;\"><br></span></span></div><div style=\"font-size:16px;\"><span style=\"font-size:14px;\"><span style=\"color:#843275;font-size:16px;\">Elsie Roy Elementary, Vancouver School District</span></span></div><div style=\"font-size:16px;\"><span style=\"font-size:14px;\">Address:&#xA0;150 Drake Street, Vancouver, BC</span><br><span style=\"font-size:14px;\">Potential exposure date(s):&#xA0;</span><span aria-hidden=\"true\" style=\"font-size:14px;\"></span><span style=\"font-size:14px;\"><span aria-hidden=\"true\"></span>September 22 to 24</span></div><span style=\"font-size:14px;\"><span style=\"color:#843275;font-size:16px;\"><br></span></span></div><div style=\"font-size:16px;\"><span style=\"font-size:14px;\"><span style=\"color:#843275;font-size:16px;\">Howe Sound Secondary, Sea to Sky School District</span></span></div><div style=\"font-size:16px;\"><span style=\"font-size:14px;\">Address:&#xA0;38430 Buckley Avenue, Squamish, BC</span><br><span style=\"font-size:14px;\">Potential exposure date(s):&#xA0;</span><span aria-hidden=\"true\" style=\"font-size:14px;\"></span><span style=\"font-size:14px;\"><span aria-hidden=\"true\"></span>September 21 to 25</span></div><div style=\"font-size:16px;\"><span style=\"font-size:14px;\"><br></span></div><div style=\"font-size:16px;\"><div style=\"font-size:16px;\"><span style=\"font-size:14px;\"><span style=\"color:#843275;font-size:16px;\">Vancouver Technical Secondary, Vancouver School District</span></span></div><div style=\"font-size:16px;\"><span style=\"font-size:14px;\">Address:&#xA0;2600 East Broadway, Vancouver, BC</span><br><span style=\"font-size:14px;\">Potential exposure date(s):&#xA0;</span><span aria-hidden=\"true\" style=\"font-size:14px;\"></span><span style=\"font-size:14px;\"><span aria-hidden=\"true\"></span>September 21</span></div><div style=\"font-size:16px;\"><span style=\"font-size:14px;\"><br></span></div><div style=\"font-size:16px;\"><div style=\"font-size:16px;\"><span style=\"font-size:14px;\"><span style=\"color:#843275;font-size:16px;\">Caulfeild Elementary, West Vancouver School District</span></span></div><div style=\"font-size:16px;\"><span style=\"font-size:14px;\">Address:&#xA0;4685 Keith Road, West Vancouver, BC</span><br><span style=\"font-size:14px;\">Potential exposure date(s):&#xA0;</span><span style=\"font-size:14px;\">September 16 to 18, September 21 to 24</span></div><div style=\"font-size:16px;\"><span style=\"font-size:14px;\"><br></span></div><div style=\"font-size:16px;\"><div style=\"font-size:16px;\"><span style=\"font-size:14px;\"><span style=\"color:#843275;font-size:16px;\">BC Muslim School, Richmond</span></span></div><div style=\"font-size:16px;\"><span style=\"font-size:14px;\">Address:&#xA0;12300 Blundell Road, Richmond, BC</span><br><span style=\"font-size:14px;\">Potential exposure date(s):&#xA0;</span><span aria-hidden=\"true\" style=\"font-size:14px;\"></span><span style=\"font-size:14px;\"><span aria-hidden=\"true\"></span>September 11 to 18</span></div></div></div></div><span style=\"font-size:14px;\"><span style=\"color:#843275;font-size:16px;\"><br></span></span></div><div style=\"font-size:16px;\"><span style=\"font-size:14px;\"><span style=\"color:#843275;font-size:16px;\">Gladstone Secondary, Vancouver School District</span></span></div><div style=\"font-size:16px;\"><span style=\"font-size:14px;\">Address: 4105 Gladstone Street, Vancouver, BC</span><br><span style=\"font-size:14px;\">Potential exposure date(s):&#xA0;</span><span aria-hidden=\"true\" style=\"font-size:14px;\"></span><span style=\"font-size:14px;\">September 16 to 18, September 21 to 22</span></div><div style=\"font-size:16px;\"><span style=\"font-size:14px;\"><br></span></div><div style=\"font-size:16px;\"><div style=\"font-size:16px;\"><span style=\"font-size:14px;\"><span style=\"color:#843275;font-size:16px;\">L&#x2019;&#xC9;cole des Navigateurs, Richmond</span></span></div><div style=\"font-size:16px;\"><span style=\"font-size:14px;\">Address: 8580 Kilgour Place, Richmond, BC</span><br><span style=\"font-size:14px;\">Potential exposure date(s):&#xA0;</span><span aria-hidden=\"true\" style=\"font-size:14px;\"></span><span style=\"font-size:14px;\">September 14</span></div></div><span style=\"font-size:14px;\"><span style=\"color:#843275;font-size:16px;\"><br></span></span></div><div style=\"font-size:16px;\">\n",
      "                     <span style=\"font-size:14px;\"><span style=\"color:#843275;font-size:16px;\">Mamquam Elementary, Sea to Sky School District</span></span></div><div style=\"font-size:16px;\">\n",
      "                     <span style=\"font-size:14px;\">Address: 40266 Government Road, Garibaldi Highlands, BC</span><br><span style=\"font-size:14px;\">Potential exposure date(s):&#xA0;</span><span aria-hidden=\"true\" style=\"font-size:14px;\"></span><span style=\"font-size:14px;\">September 11, 16, 17 and 18</span><br></div><div style=\"font-size:16px;\"><br></div><div style=\"font-size:16px;\"><div style=\"font-size:16px;\"><span style=\"font-size:14px;\"><span style=\"color:#843275;font-size:16px;\"><span style=\"color:#843275;font-size:16px;\">Xpey&#x2019; Elementary, Vancouver School District</span></span></span></div><div style=\"font-size:16px;\"><span style=\"font-size:14px;\">Address:&#xA0;1950 East Hastings Street, Vancouver, BC</span><br><span style=\"font-size:14px;\">Potential exposure date(s):&#xA0;</span><span aria-hidden=\"true\" style=\"font-size:14px;\"></span><span style=\"font-size:14px;\"><span aria-hidden=\"true\"></span>September 10, 14, 15 and 21</span></div><span style=\"font-size:14px;\"><br></span></div><div style=\"font-size:16px;\">\n",
      "                     <div style=\"font-size:16px;\"><span style=\"font-size:14px;\"><span style=\"color:#843275;font-size:16px;\"><span style=\"color:#843275;font-size:16px;\">Sentinel Secondary, West Vancouver School District</span></span></span></div><div style=\"font-size:16px;\"><span style=\"font-size:14px;\">Address:&#xA0;1250 Chartwell Drive, West Vancouver, BC</span><br><span style=\"font-size:14px;\">Potential exposure date(s):&#xA0;</span><span aria-hidden=\"true\" style=\"font-size:14px;\"></span><span style=\"font-size:14px;\"><span aria-hidden=\"true\"></span><span aria-hidden=\"true\"></span>September 14 to September 18&#x200E;</span><span style=\"font-size:14px;\">&#x200E;,&#xA0;September 21</span></div></div>\n"
     ]
    }
   ],
   "source": [
    "// scrapes VCH \n",
    "// npm install cheerio request mysql\n",
    "// var request = require('request');\n",
    "// var cheerio = require('cheerio');\n",
    "\n",
    "request(\"http://localhost/schools_exposures.html\", function (\n",
    "    error,\n",
    "    response,\n",
    "    body\n",
    ") {\n",
    "    var $ = cheerio.load(body);\n",
    "    test = $(\"#809 > div\").html();\n",
    "    console.log(test);\n",
    "});\n"
   ]
  },
  {
   "cell_type": "code",
   "execution_count": null,
   "metadata": {},
   "outputs": [],
   "source": []
  }
 ],
 "metadata": {
  "kernelspec": {
   "display_name": "Javascript (Node.js)",
   "language": "javascript",
   "name": "javascript"
  },
  "language_info": {
   "file_extension": ".js",
   "mimetype": "application/javascript",
   "name": "javascript",
   "version": "12.18.4"
  }
 },
 "nbformat": 4,
 "nbformat_minor": 4
}
